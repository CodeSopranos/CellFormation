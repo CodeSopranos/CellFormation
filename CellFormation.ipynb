{
 "cells": [
  {
   "cell_type": "code",
   "execution_count": 1,
   "metadata": {},
   "outputs": [],
   "source": [
    "import os \n",
    "import imp\n",
    "import warnings\n",
    "import numpy as np\n",
    "import pandas as pd\n",
    "import importlib as imp\n",
    "import itertools\n",
    "from tqdm import tqdm, tqdm_notebook\n",
    "from utils import tools\n",
    "warnings.simplefilter('ignore')\n",
    "pd.options.display.max_columns = 100\n",
    "\n",
    "PATH_TO_BENCHMARKS = './/data//'"
   ]
  },
  {
   "cell_type": "markdown",
   "metadata": {},
   "source": [
    "**Задача**\n",
    "\n",
    "*Ваша четвертая лабораторная работа будет заключаться в реализации одного из двух алгоритмов: <br>\n",
    "метод имитации обжига или генетический алгоритм со встроенной эвристикой в виде локального поиска.  <br>\n",
    "Алгоритмы реализуются для задачи Cell formation problem.* <br>\n",
    "\n",
    "Реализовать можно на любом языке. <br>\n",
    "Также нужно будет сравнить время работы алгоритма, а так же показать лучшее решение алгоритма, которое удалось найти вам. <br>\n",
    "\n",
    "**Данные:**\n",
    "\n",
    "Данные для работы прикрепил архивом к письму. **Структура такая:** <br>\n",
    "\n",
    "m p (number of machines and parts) <br>\n",
    "Next m rows: <br>\n",
    "m(row number) list of parts processed by machine m separated by space <br>\n",
    "e.g: <br>\n",
    "1 9 17 19 31 33\n",
    "means machine 1 processes parts 9 17 19 31 33 <br>\n",
    "\n",
    "**Выходной формат для ответов:** <br>\n",
    "Output file: instancename.sol (e.g. 20x20.sol) <br>\n",
    "Output file format: <br>\n",
    "m1_clusterId m2_clusterId ... - machines to clusters mapping <br>\n",
    "p1_clusterId p2_clusterId ... - parts to clusters mapping <br>"
   ]
  },
  {
   "cell_type": "code",
   "execution_count": 4,
   "metadata": {},
   "outputs": [
    {
     "data": {
      "text/plain": [
       "['20x20.txt', '24x40.txt', '30x50.txt', '30x90.txt', '37x53.txt']"
      ]
     },
     "execution_count": 4,
     "metadata": {},
     "output_type": "execute_result"
    }
   ],
   "source": [
    "txtfiles = [f for f in os.listdir(PATH_TO_BENCHMARKS) if os.path.isfile(os.path.join(PATH_TO_BENCHMARKS, f))]\n",
    "txtfiles"
   ]
  },
  {
   "cell_type": "code",
   "execution_count": 5,
   "metadata": {},
   "outputs": [],
   "source": [
    "tools = imp.reload(tools)\n",
    "machine_part_matrix = tools.get_data(PATH_TO_BENCHMARKS + txtfiles[0])\n",
    "machine_part_matrix_sample = np.array([[1, 0, 0, 1, 0], [0, 1, 1, 0, 1], [1, 0, 0, 0, 0], [0, 1, 1, 0, 0], [0, 0, 0, 1, 0]])"
   ]
  },
  {
   "cell_type": "code",
   "execution_count": 4,
   "metadata": {},
   "outputs": [
    {
     "data": {
      "text/html": [
       "<div>\n",
       "<style scoped>\n",
       "    .dataframe tbody tr th:only-of-type {\n",
       "        vertical-align: middle;\n",
       "    }\n",
       "\n",
       "    .dataframe tbody tr th {\n",
       "        vertical-align: top;\n",
       "    }\n",
       "\n",
       "    .dataframe thead th {\n",
       "        text-align: right;\n",
       "    }\n",
       "</style>\n",
       "<table border=\"1\" class=\"dataframe\">\n",
       "  <thead>\n",
       "    <tr style=\"text-align: right;\">\n",
       "      <th></th>\n",
       "      <th>0</th>\n",
       "      <th>1</th>\n",
       "      <th>2</th>\n",
       "      <th>3</th>\n",
       "      <th>4</th>\n",
       "    </tr>\n",
       "  </thead>\n",
       "  <tbody>\n",
       "    <tr>\n",
       "      <th>0</th>\n",
       "      <td>1</td>\n",
       "      <td>0</td>\n",
       "      <td>0</td>\n",
       "      <td>1</td>\n",
       "      <td>0</td>\n",
       "    </tr>\n",
       "    <tr>\n",
       "      <th>1</th>\n",
       "      <td>0</td>\n",
       "      <td>1</td>\n",
       "      <td>1</td>\n",
       "      <td>0</td>\n",
       "      <td>1</td>\n",
       "    </tr>\n",
       "    <tr>\n",
       "      <th>2</th>\n",
       "      <td>1</td>\n",
       "      <td>0</td>\n",
       "      <td>0</td>\n",
       "      <td>0</td>\n",
       "      <td>0</td>\n",
       "    </tr>\n",
       "    <tr>\n",
       "      <th>3</th>\n",
       "      <td>0</td>\n",
       "      <td>1</td>\n",
       "      <td>1</td>\n",
       "      <td>0</td>\n",
       "      <td>0</td>\n",
       "    </tr>\n",
       "    <tr>\n",
       "      <th>4</th>\n",
       "      <td>0</td>\n",
       "      <td>0</td>\n",
       "      <td>0</td>\n",
       "      <td>1</td>\n",
       "      <td>0</td>\n",
       "    </tr>\n",
       "  </tbody>\n",
       "</table>\n",
       "</div>"
      ],
      "text/plain": [
       "   0  1  2  3  4\n",
       "0  1  0  0  1  0\n",
       "1  0  1  1  0  1\n",
       "2  1  0  0  0  0\n",
       "3  0  1  1  0  0\n",
       "4  0  0  0  1  0"
      ]
     },
     "execution_count": 4,
     "metadata": {},
     "output_type": "execute_result"
    }
   ],
   "source": [
    "pd.DataFrame(machine_part_matrix_sample)"
   ]
  },
  {
   "cell_type": "markdown",
   "metadata": {},
   "source": [
    "Построение $similarity\\ matrix$ по формуле $$S_{ij} = \\frac{a_{ij}}{a_{ij} + b_{ij} + c_{ij}}$$\n",
    "$a_{ij}$ - кол-во машин, которые обрабатывают детали $i, j$\n",
    "$b_{ij}$ - кол-во машин, которые обрабатывают деталь $i$, но не $j$\n",
    "$c_{ij}$ - кол-во машин, которые обрабатывают деталь $j$, но не $i$"
   ]
  },
  {
   "cell_type": "code",
   "execution_count": 5,
   "metadata": {
    "collapsed": true
   },
   "outputs": [
    {
     "ename": "NameError",
     "evalue": "name 'similarity_matrix' is not defined",
     "output_type": "error",
     "traceback": [
      "\u001b[1;31m---------------------------------------------------------------------------\u001b[0m",
      "\u001b[1;31mNameError\u001b[0m                                 Traceback (most recent call last)",
      "\u001b[1;32m<ipython-input-5-cd83af129c94>\u001b[0m in \u001b[0;36m<module>\u001b[1;34m\u001b[0m\n\u001b[1;32m----> 1\u001b[1;33m \u001b[0mpd\u001b[0m\u001b[1;33m.\u001b[0m\u001b[0mDataFrame\u001b[0m\u001b[1;33m(\u001b[0m\u001b[0msimilarity_matrix\u001b[0m\u001b[1;33m)\u001b[0m\u001b[1;33m\u001b[0m\u001b[1;33m\u001b[0m\u001b[0m\n\u001b[0m",
      "\u001b[1;31mNameError\u001b[0m: name 'similarity_matrix' is not defined"
     ]
    }
   ],
   "source": [
    "pd.DataFrame(similarity_matrix)"
   ]
  },
  {
   "cell_type": "markdown",
   "metadata": {},
   "source": [
    "Матрицу удобнее представить в виде списка: $[[(i, j), S_{i, j}]]$"
   ]
  },
  {
   "cell_type": "code",
   "execution_count": 7,
   "metadata": {},
   "outputs": [
    {
     "data": {
      "text/plain": [
       "[[(1, 2), 1.0], [(1, 4), 0.5], [(2, 4), 0.5], [(0, 3), 0.3333333333333333]]"
      ]
     },
     "execution_count": 7,
     "metadata": {},
     "output_type": "execute_result"
    }
   ],
   "source": [
    "np_similarity"
   ]
  },
  {
   "cell_type": "markdown",
   "metadata": {},
   "source": [
    "Итерируясь в порядке убывания по списку составленному по $similarity\\ matrix$ генерируем первоначальное решение (разбиение на $cells$)"
   ]
  },
  {
   "cell_type": "code",
   "execution_count": 6,
   "metadata": {
    "collapsed": true
   },
   "outputs": [
    {
     "ename": "NameError",
     "evalue": "name 'cells_p' is not defined",
     "output_type": "error",
     "traceback": [
      "\u001b[1;31m---------------------------------------------------------------------------\u001b[0m",
      "\u001b[1;31mNameError\u001b[0m                                 Traceback (most recent call last)",
      "\u001b[1;32m<ipython-input-6-7bc7db6272fc>\u001b[0m in \u001b[0;36m<module>\u001b[1;34m\u001b[0m\n\u001b[1;32m----> 1\u001b[1;33m \u001b[0mcells_p\u001b[0m\u001b[1;33m\u001b[0m\u001b[1;33m\u001b[0m\u001b[0m\n\u001b[0m",
      "\u001b[1;31mNameError\u001b[0m: name 'cells_p' is not defined"
     ]
    }
   ],
   "source": [
    "cells_p"
   ]
  },
  {
   "cell_type": "markdown",
   "metadata": {},
   "source": [
    "$Cell 1:$ [1, 2, 4]\n",
    "$Cell 2:$ [0, 3]"
   ]
  },
  {
   "cell_type": "code",
   "execution_count": 7,
   "metadata": {
    "scrolled": true
   },
   "outputs": [
    {
     "data": {
      "text/html": [
       "<div>\n",
       "<style scoped>\n",
       "    .dataframe tbody tr th:only-of-type {\n",
       "        vertical-align: middle;\n",
       "    }\n",
       "\n",
       "    .dataframe tbody tr th {\n",
       "        vertical-align: top;\n",
       "    }\n",
       "\n",
       "    .dataframe thead th {\n",
       "        text-align: right;\n",
       "    }\n",
       "</style>\n",
       "<table border=\"1\" class=\"dataframe\">\n",
       "  <thead>\n",
       "    <tr style=\"text-align: right;\">\n",
       "      <th></th>\n",
       "      <th>1</th>\n",
       "      <th>2</th>\n",
       "      <th>4</th>\n",
       "      <th>0</th>\n",
       "      <th>3</th>\n",
       "    </tr>\n",
       "  </thead>\n",
       "  <tbody>\n",
       "    <tr>\n",
       "      <th>0</th>\n",
       "      <td>0</td>\n",
       "      <td>0</td>\n",
       "      <td>0</td>\n",
       "      <td>1</td>\n",
       "      <td>1</td>\n",
       "    </tr>\n",
       "    <tr>\n",
       "      <th>1</th>\n",
       "      <td>1</td>\n",
       "      <td>1</td>\n",
       "      <td>1</td>\n",
       "      <td>0</td>\n",
       "      <td>0</td>\n",
       "    </tr>\n",
       "    <tr>\n",
       "      <th>2</th>\n",
       "      <td>0</td>\n",
       "      <td>0</td>\n",
       "      <td>0</td>\n",
       "      <td>1</td>\n",
       "      <td>0</td>\n",
       "    </tr>\n",
       "    <tr>\n",
       "      <th>3</th>\n",
       "      <td>1</td>\n",
       "      <td>1</td>\n",
       "      <td>0</td>\n",
       "      <td>0</td>\n",
       "      <td>0</td>\n",
       "    </tr>\n",
       "    <tr>\n",
       "      <th>4</th>\n",
       "      <td>0</td>\n",
       "      <td>0</td>\n",
       "      <td>0</td>\n",
       "      <td>0</td>\n",
       "      <td>1</td>\n",
       "    </tr>\n",
       "  </tbody>\n",
       "</table>\n",
       "</div>"
      ],
      "text/plain": [
       "   1  2  4  0  3\n",
       "0  0  0  0  1  1\n",
       "1  1  1  1  0  0\n",
       "2  0  0  0  1  0\n",
       "3  1  1  0  0  0\n",
       "4  0  0  0  0  1"
      ]
     },
     "execution_count": 7,
     "metadata": {},
     "output_type": "execute_result"
    }
   ],
   "source": [
    "pd.DataFrame(machine_part_matrix_sample)[[1, 2, 4, 0, 3]]"
   ]
  },
  {
   "cell_type": "code",
   "execution_count": 8,
   "metadata": {},
   "outputs": [],
   "source": [
    "tools = imp.reload(tools)\n",
    "machine_part_matrix = tools.get_data(PATH_TO_BENCHMARKS + txtfiles[0])\n",
    "cells_p, cells_m = tools.get_solution(machine_part_matrix, 2)"
   ]
  },
  {
   "cell_type": "code",
   "execution_count": 26,
   "metadata": {},
   "outputs": [
    {
     "data": {
      "text/plain": [
       "0.26881720430107525"
      ]
     },
     "execution_count": 26,
     "metadata": {},
     "output_type": "execute_result"
    }
   ],
   "source": [
    "df = tools.solution_df(cells_p, cells_m, machine_part_matrix)\n",
    "tools.compute_grouping_efficacy(cells_p, cells_m, df)"
   ]
  },
  {
   "cell_type": "code",
   "execution_count": 81,
   "metadata": {},
   "outputs": [
    {
     "name": "stdout",
     "output_type": "stream",
     "text": [
      "begin\n",
      "              f: {'current': 0.26881720430107525, 'neigh': 0.28205128205128205, 'best': 0}\n",
      "temperature    : {'current': 10, 'final': 0.002}\n",
      "number of cells: {'initial': 2, 'optimal': 0}\n",
      "\n",
      "\n",
      "end\n",
      "              f: {'current': 0.28205128205128205, 'neigh': 0.28205128205128205, 'best': 0.28205128205128205}\n",
      "temperature    : {'current': 10, 'final': 0.002}\n",
      "number of cells: {'initial': 3, 'optimal': 2}\n",
      "\n",
      "\n",
      "begin\n",
      "              f: {'current': 0.3575418994413408, 'neigh': 0.3641304347826087, 'best': 0.28205128205128205}\n",
      "temperature    : {'current': 10, 'final': 0.002}\n",
      "number of cells: {'initial': 3, 'optimal': 2}\n",
      "\n",
      "\n",
      "end\n",
      "              f: {'current': 0.3641304347826087, 'neigh': 0.3641304347826087, 'best': 0.3641304347826087}\n",
      "temperature    : {'current': 10, 'final': 0.002}\n",
      "number of cells: {'initial': 4, 'optimal': 3}\n",
      "\n",
      "\n",
      "begin\n",
      "              f: {'current': 0.33793103448275863, 'neigh': 0.3424657534246575, 'best': 0.3641304347826087}\n",
      "temperature    : {'current': 10, 'final': 0.002}\n",
      "number of cells: {'initial': 4, 'optimal': 3}\n",
      "\n",
      "\n",
      "end\n",
      "              f: {'current': 0.3424657534246575, 'neigh': 0.3424657534246575, 'best': 0.3641304347826087}\n",
      "temperature    : {'current': 10, 'final': 0.002}\n",
      "number of cells: {'initial': 4, 'optimal': 3}\n",
      "\n",
      "\n",
      "begin\n",
      "              f: {'current': 0.3424657534246575, 'neigh': 0.3509933774834437, 'best': 0.3641304347826087}\n",
      "temperature    : {'current': 10, 'final': 0.002}\n",
      "number of cells: {'initial': 4, 'optimal': 3}\n",
      "\n",
      "\n",
      "end\n",
      "              f: {'current': 0.3509933774834437, 'neigh': 0.3509933774834437, 'best': 0.3641304347826087}\n",
      "temperature    : {'current': 10, 'final': 0.002}\n",
      "number of cells: {'initial': 4, 'optimal': 3}\n",
      "\n",
      "\n",
      "begin\n",
      "              f: {'current': 0.3509933774834437, 'neigh': 0.3576158940397351, 'best': 0.3641304347826087}\n",
      "temperature    : {'current': 10, 'final': 0.002}\n",
      "number of cells: {'initial': 4, 'optimal': 3}\n",
      "\n",
      "\n",
      "end\n",
      "              f: {'current': 0.3576158940397351, 'neigh': 0.3576158940397351, 'best': 0.3641304347826087}\n",
      "temperature    : {'current': 10, 'final': 0.002}\n",
      "number of cells: {'initial': 4, 'optimal': 3}\n",
      "\n",
      "\n",
      "              f: {'current': 0.3576158940397351, 'neigh': 0.3576158940397351, 'best': 0.3641304347826087}\n",
      "temperature    : {'current': 10, 'final': 0.002}\n",
      "number of cells: {'initial': 4, 'optimal': 3}\n",
      "\n",
      "\n"
     ]
    }
   ],
   "source": [
    "from algorithm import SimulatedAnnealing\n",
    "\n",
    "SimulatedAnnealing = imp.reload(SimulatedAnnealing)\n",
    "params = {\n",
    "    'initial_temperature' : 10,\n",
    "    'final_temperature'   : 0.002,\n",
    "    'chain_len'           : 10,\n",
    "    'len_of_period'       : 6,\n",
    "    'numb_of_cells'       : 2,\n",
    "    'check'               : 10,\n",
    "    'cooling_rate'        : 0.7,\n",
    "}\n",
    "\n",
    "SA = SimulatedAnnealing.SimulatedAnnealing(machine_part_matrix)\n",
    "SA.set_params(params)\n",
    "SA.solve()"
   ]
  },
  {
   "cell_type": "code",
   "execution_count": 17,
   "metadata": {},
   "outputs": [
    {
     "data": {
      "text/plain": [
       "1.0"
      ]
     },
     "execution_count": 17,
     "metadata": {},
     "output_type": "execute_result"
    }
   ],
   "source": [
    "import math\n",
    "math.exp(0)"
   ]
  },
  {
   "cell_type": "code",
   "execution_count": 25,
   "metadata": {},
   "outputs": [
    {
     "name": "stdout",
     "output_type": "stream",
     "text": [
      "0 0\n",
      "0 1\n",
      "1 0\n",
      "1 1\n",
      "2 0\n",
      "2 1\n"
     ]
    }
   ],
   "source": [
    "for i in range(3):\n",
    "    for j in range(4):\n",
    "        if j > 1:\n",
    "            break\n",
    "        print(i, j)"
   ]
  }
 ],
 "metadata": {
  "kernelspec": {
   "display_name": "Python 3",
   "language": "python",
   "name": "python3"
  },
  "language_info": {
   "codemirror_mode": {
    "name": "ipython",
    "version": 3
   },
   "file_extension": ".py",
   "mimetype": "text/x-python",
   "name": "python",
   "nbconvert_exporter": "python",
   "pygments_lexer": "ipython3",
   "version": "3.6.10"
  }
 },
 "nbformat": 4,
 "nbformat_minor": 4
}
