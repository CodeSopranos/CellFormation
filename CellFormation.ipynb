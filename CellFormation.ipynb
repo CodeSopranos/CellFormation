{
 "cells": [
  {
   "cell_type": "code",
   "execution_count": 1,
   "metadata": {},
   "outputs": [],
   "source": [
    "import os \n",
    "import imp\n",
    "import warnings\n",
    "import numpy as np\n",
    "import pandas as pd\n",
    "import importlib as imp\n",
    "import itertools\n",
    "from tqdm import tqdm, tqdm_notebook\n",
    "from utils import tools\n",
    "warnings.simplefilter('ignore')\n",
    "pd.options.display.max_columns = 100\n",
    "\n",
    "PATH_TO_BENCHMARKS = './/data//'"
   ]
  },
  {
   "cell_type": "markdown",
   "metadata": {},
   "source": [
    "**Задача**\n",
    "$asd$\n",
    "*Ваша четвертая лабораторная работа будет заключаться в реализации одного из двух алгоритмов: <br>\n",
    "метод имитации обжига или генетический алгоритм со встроенной эвристикой в виде локального поиска.  <br>\n",
    "Алгоритмы реализуются для задачи Cell formation problem.* <br>\n",
    "\n",
    "Реализовать можно на любом языке. <br>\n",
    "Также нужно будет сравнить время работы алгоритма, а так же показать лучшее решение алгоритма, которое удалось найти вам. <br>\n",
    "\n",
    "**Данные:**\n",
    "\n",
    "Данные для работы прикрепил архивом к письму. **Структура такая:** <br>\n",
    "\n",
    "m p (number of machines and parts) <br>\n",
    "Next m rows: <br>\n",
    "m(row number) list of parts processed by machine m separated by space <br>\n",
    "e.g: <br>\n",
    "1 9 17 19 31 33\n",
    "means machine 1 processes parts 9 17 19 31 33 <br>\n",
    "\n",
    "**Выходной формат для ответов:** <br>\n",
    "Output file: instancename.sol (e.g. 20x20.sol) <br>\n",
    "Output file format: <br>\n",
    "m1_clusterId m2_clusterId ... - machines to clusters mapping <br>\n",
    "p1_clusterId p2_clusterId ... - parts to clusters mapping <br>"
   ]
  },
  {
   "cell_type": "code",
   "execution_count": 2,
   "metadata": {},
   "outputs": [
    {
     "data": {
      "text/plain": [
       "['20x20.txt', '24x40.txt', '30x50.txt', '30x90.txt', '37x53.txt']"
      ]
     },
     "execution_count": 2,
     "metadata": {},
     "output_type": "execute_result"
    }
   ],
   "source": [
    "txtfiles = [f for f in os.listdir(PATH_TO_BENCHMARKS) if os.path.isfile(os.path.join(PATH_TO_BENCHMARKS, f))]\n",
    "txtfiles"
   ]
  },
  {
   "cell_type": "code",
   "execution_count": 12,
   "metadata": {},
   "outputs": [
    {
     "name": "stdout",
     "output_type": "stream",
     "text": [
      "20x20.txt\n",
      "              f: {'current': 0.3053097345132743, 'neigh': 0, 'best': 0}\n",
      "temperature    : {'current': 10, 'final': 0.002}\n",
      "number of cells: {'initial': 2, 'optimal': 0} cool_rate: 0.7\n",
      "\n",
      "\n",
      "              f: {'current': 0.32903225806451614, 'neigh': 0.32903225806451614, 'best': 0.3973509933774834}\n",
      "temperature    : {'current': 0.0019158123138056616, 'final': 0.002}\n",
      "number of cells: {'initial': 6, 'optimal': 5} cool_rate: 0.7\n",
      "\n",
      "\n",
      "time: 0:00:26.784682\n",
      "24x40.txt\n",
      "              f: {'current': 0.1790744466800805, 'neigh': 0, 'best': 0}\n",
      "temperature    : {'current': 10, 'final': 0.002}\n",
      "number of cells: {'initial': 2, 'optimal': 0} cool_rate: 0.7\n",
      "\n",
      "\n",
      "              f: {'current': 0.22321428571428573, 'neigh': 0.22321428571428573, 'best': 0.26881720430107525}\n",
      "temperature    : {'current': 0.0019158123138056616, 'final': 0.002}\n",
      "number of cells: {'initial': 5, 'optimal': 4} cool_rate: 0.7\n",
      "\n",
      "\n",
      "time: 0:01:36.037527\n",
      "30x50.txt\n",
      "              f: {'current': 0.10413476263399694, 'neigh': 0, 'best': 0}\n",
      "temperature    : {'current': 10, 'final': 0.002}\n",
      "number of cells: {'initial': 2, 'optimal': 0} cool_rate: 0.7\n",
      "\n",
      "\n",
      "              f: {'current': 0.11436950146627566, 'neigh': 0.11436950146627566, 'best': 0.21350364963503649}\n",
      "temperature    : {'current': 0.0019158123138056616, 'final': 0.002}\n",
      "number of cells: {'initial': 4, 'optimal': 3} cool_rate: 0.7\n",
      "\n",
      "\n",
      "time: 0:01:22.471738\n",
      "30x90.txt\n",
      "              f: {'current': 0.12310151878497202, 'neigh': 0, 'best': 0}\n",
      "temperature    : {'current': 10, 'final': 0.002}\n",
      "number of cells: {'initial': 2, 'optimal': 0} cool_rate: 0.7\n",
      "\n",
      "\n",
      "              f: {'current': 0.08877284595300261, 'neigh': 0.08877284595300261, 'best': 0.1236220472440945}\n",
      "temperature    : {'current': 0.011398895185373131, 'final': 0.002}\n",
      "number of cells: {'initial': 3, 'optimal': 2} cool_rate: 0.7\n",
      "\n",
      "\n",
      "time: 0:01:34.493227\n",
      "37x53.txt\n",
      "              f: {'current': 0.45412490362374713, 'neigh': 0, 'best': 0}\n",
      "temperature    : {'current': 10, 'final': 0.002}\n",
      "number of cells: {'initial': 2, 'optimal': 0} cool_rate: 0.7\n",
      "\n",
      "\n",
      "              f: {'current': 0.36056338028169016, 'neigh': 0.36056338028169016, 'best': 0.4941599281221923}\n",
      "temperature    : {'current': 0.0019158123138056616, 'final': 0.002}\n",
      "number of cells: {'initial': 4, 'optimal': 3} cool_rate: 0.7\n",
      "\n",
      "\n",
      "time: 0:01:26.238022\n"
     ]
    }
   ],
   "source": [
    "from algorithm import SimulatedAnnealing\n",
    "from datetime import datetime\n",
    "tools = imp.reload(tools)\n",
    "\n",
    "SimulatedAnnealing = imp.reload(SimulatedAnnealing)\n",
    "params = {\n",
    "    'initial_temperature' : 10,\n",
    "    'final_temperature'   : 0.002,\n",
    "    'chain_len'           : 4,\n",
    "    'len_of_period'       : 6,\n",
    "    'numb_of_cells'       : 2,\n",
    "    'check'               : 5,\n",
    "    'cooling_rate'        : 0.7,\n",
    "}\n",
    "\n",
    "for txt in txtfiles:\n",
    "    print(txt)\n",
    "    machine_part_matrix = tools.get_data(PATH_TO_BENCHMARKS + txt)\n",
    "    cells_p, cells_m = tools.get_solution(machine_part_matrix, 2)\n",
    "\n",
    "    SA = SimulatedAnnealing.SimulatedAnnealing(machine_part_matrix)\n",
    "    SA.set_params(params)\n",
    "    start = datetime.now()\n",
    "    SA.solve()\n",
    "    print('time:', datetime.now() - start)"
   ]
  }
 ],
 "metadata": {
  "kernelspec": {
   "display_name": "Python 3",
   "language": "python",
   "name": "python3"
  },
  "language_info": {
   "codemirror_mode": {
    "name": "ipython",
    "version": 3
   },
   "file_extension": ".py",
   "mimetype": "text/x-python",
   "name": "python",
   "nbconvert_exporter": "python",
   "pygments_lexer": "ipython3",
   "version": "3.6.10"
  }
 },
 "nbformat": 4,
 "nbformat_minor": 4
}
