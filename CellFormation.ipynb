{
 "cells": [
  {
   "cell_type": "code",
   "execution_count": 1,
   "metadata": {},
   "outputs": [],
   "source": [
    "import os \n",
    "import imp\n",
    "import warnings\n",
    "import numpy as np\n",
    "import pandas as pd\n",
    "import importlib as imp\n",
    "import itertools\n",
    "from tqdm import tqdm, tqdm_notebook\n",
    "from utils import tools\n",
    "warnings.simplefilter('ignore')\n",
    "pd.options.display.max_columns = 100\n",
    "\n",
    "PATH_TO_BENCHMARKS = './/data//'"
   ]
  },
  {
   "cell_type": "markdown",
   "metadata": {},
   "source": [
    "**Задача**\n",
    "$asd$\n",
    "*Ваша четвертая лабораторная работа будет заключаться в реализации одного из двух алгоритмов: <br>\n",
    "метод имитации обжига или генетический алгоритм со встроенной эвристикой в виде локального поиска.  <br>\n",
    "Алгоритмы реализуются для задачи Cell formation problem.* <br>\n",
    "\n",
    "Реализовать можно на любом языке. <br>\n",
    "Также нужно будет сравнить время работы алгоритма, а так же показать лучшее решение алгоритма, которое удалось найти вам. <br>\n",
    "\n",
    "**Данные:**\n",
    "\n",
    "Данные для работы прикрепил архивом к письму. **Структура такая:** <br>\n",
    "\n",
    "m p (number of machines and parts) <br>\n",
    "Next m rows: <br>\n",
    "m(row number) list of parts processed by machine m separated by space <br>\n",
    "e.g: <br>\n",
    "1 9 17 19 31 33\n",
    "means machine 1 processes parts 9 17 19 31 33 <br>\n",
    "\n",
    "**Выходной формат для ответов:** <br>\n",
    "Output file: instancename.sol (e.g. 20x20.sol) <br>\n",
    "Output file format: <br>\n",
    "m1_clusterId m2_clusterId ... - machines to clusters mapping <br>\n",
    "p1_clusterId p2_clusterId ... - parts to clusters mapping <br>"
   ]
  },
  {
   "cell_type": "code",
   "execution_count": 2,
   "metadata": {},
   "outputs": [
    {
     "data": {
      "text/plain": [
       "['20x20.txt', '24x40.txt', '30x50.txt', '30x90.txt', '37x53.txt']"
      ]
     },
     "execution_count": 2,
     "metadata": {},
     "output_type": "execute_result"
    }
   ],
   "source": [
    "txtfiles = [f for f in os.listdir(PATH_TO_BENCHMARKS) if os.path.isfile(os.path.join(PATH_TO_BENCHMARKS, f))]\n",
    "txtfiles"
   ]
  },
  {
   "cell_type": "code",
   "execution_count": 52,
   "metadata": {},
   "outputs": [
    {
     "name": "stdout",
     "output_type": "stream",
     "text": [
      "20x20.txt\n",
      "              f: {'current': 0.26881720430107525, 'neigh': 0, 'best': 0}\n",
      "temperature    : {'current': 10, 'final': 0.002}\n",
      "number of cells: {'initial': 2, 'optimal': 0} cool_rate: 0.7\n",
      "\n",
      "\n",
      "              f: {'current': 0.36666666666666664, 'neigh': 0.36666666666666664, 'best': 0.37967914438502676}\n",
      "temperature    : {'current': 0.002736874734008088, 'final': 0.002}\n",
      "number of cells: {'initial': 4, 'optimal': 3} cool_rate: 0.7\n",
      "\n",
      "\n",
      "time: 0:00:55.297060\n",
      "24x40.txt\n",
      "              f: {'current': 0.14746543778801843, 'neigh': 0, 'best': 0}\n",
      "temperature    : {'current': 10, 'final': 0.002}\n",
      "number of cells: {'initial': 2, 'optimal': 0} cool_rate: 0.7\n",
      "\n",
      "\n",
      "              f: {'current': 0.25, 'neigh': 0.25, 'best': 0.2779783393501805}\n",
      "temperature    : {'current': 0.0019158123138056616, 'final': 0.002}\n",
      "number of cells: {'initial': 5, 'optimal': 4} cool_rate: 0.7\n",
      "\n",
      "\n",
      "time: 0:01:35.790441\n",
      "30x50.txt\n",
      "              f: {'current': 0.14032697547683923, 'neigh': 0, 'best': 0}\n",
      "temperature    : {'current': 10, 'final': 0.002}\n",
      "number of cells: {'initial': 2, 'optimal': 0} cool_rate: 0.7\n",
      "\n",
      "\n",
      "              f: {'current': 0.2774390243902439, 'neigh': 0.2774390243902439, 'best': 0.2774390243902439}\n",
      "temperature    : {'current': 0.0019158123138056616, 'final': 0.002}\n",
      "number of cells: {'initial': 7, 'optimal': 6} cool_rate: 0.7\n",
      "\n",
      "\n",
      "time: 0:02:16.734351\n",
      "30x90.txt\n",
      "              f: {'current': 0.10792079207920792, 'neigh': 0, 'best': 0}\n",
      "temperature    : {'current': 10, 'final': 0.002}\n",
      "number of cells: {'initial': 2, 'optimal': 0} cool_rate: 0.7\n",
      "\n",
      "\n",
      "              f: {'current': 0.11695906432748537, 'neigh': 0.11695906432748537, 'best': 0.2572741194486983}\n",
      "temperature    : {'current': 0.0019158123138056616, 'final': 0.002}\n",
      "number of cells: {'initial': 6, 'optimal': 5} cool_rate: 0.7\n",
      "\n",
      "\n",
      "time: 0:02:39.685686\n",
      "37x53.txt\n",
      "              f: {'current': 0.4369300911854103, 'neigh': 0, 'best': 0}\n",
      "temperature    : {'current': 10, 'final': 0.002}\n",
      "number of cells: {'initial': 2, 'optimal': 0} cool_rate: 0.7\n",
      "\n",
      "\n",
      "              f: {'current': 0.4387317909168809, 'neigh': 0.4387317909168809, 'best': 0.44904214559386973}\n",
      "temperature    : {'current': 0.09688901040699992, 'final': 0.002}\n",
      "number of cells: {'initial': 3, 'optimal': 2} cool_rate: 0.7\n",
      "\n",
      "\n",
      "time: 0:00:51.420053\n"
     ]
    }
   ],
   "source": [
    "from algorithm import SimulatedAnnealing\n",
    "from datetime import datetime\n",
    "tools = imp.reload(tools)\n",
    "\n",
    "SimulatedAnnealing = imp.reload(SimulatedAnnealing)\n",
    "params = {\n",
    "    'initial_temperature' : 10,\n",
    "    'final_temperature'   : 0.002,\n",
    "    'chain_len'           : 4,\n",
    "    'len_of_period'       : 6,\n",
    "    'numb_of_cells'       : 2,\n",
    "    'check'               : 5,\n",
    "    'cooling_rate'        : 0.7,\n",
    "}\n",
    "\n",
    "for txt in txtfiles:\n",
    "    print(txt)\n",
    "    machine_part_matrix = tools.get_data(PATH_TO_BENCHMARKS + txt)\n",
    "    cells_p, cells_m = tools.get_solution(machine_part_matrix, 2)\n",
    "\n",
    "    SA = SimulatedAnnealing.SimulatedAnnealing(machine_part_matrix)\n",
    "    SA.set_params(params)\n",
    "    start = datetime.now()\n",
    "    SA.solve()\n",
    "    print('time:', datetime.now() - start)"
   ]
  }
 ],
 "metadata": {
  "kernelspec": {
   "display_name": "Python 3",
   "language": "python",
   "name": "python3"
  },
  "language_info": {
   "codemirror_mode": {
    "name": "ipython",
    "version": 3
   },
   "file_extension": ".py",
   "mimetype": "text/x-python",
   "name": "python",
   "nbconvert_exporter": "python",
   "pygments_lexer": "ipython3",
   "version": "3.6.10"
  }
 },
 "nbformat": 4,
 "nbformat_minor": 4
}
