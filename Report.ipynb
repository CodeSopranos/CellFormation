{
 "cells": [
  {
   "cell_type": "markdown",
   "metadata": {},
   "source": [
    "# Cell Formation Problem\n",
    "**Седунов, Альперович**\n",
    "\n",
    "  --- \n",
    "\n",
    "***benchmarks:*** ```./data```\n",
    " \n",
    "- initial temperature ($T_f$) : $10$ \n",
    "- final temperature ($T_0$)   : $0.002$\n",
    "- chain len ($L$)             : $4$\n",
    "- len of period ($D$)         : $6$\n",
    "- numb of cells ($C_0$)       : $2$\n",
    "- check                       : $5$\n",
    "- cooling rate ($\\alpha$)     : $0.7$\n",
    "\n",
    "--- \n",
    "\n",
    "## Benchmark 20x20\n",
    "- $f_{start}$   : ```0.305```, $f_{best}$ : ```0.397```\n",
    "- $C_{optimal}$ : ```5```\n",
    "- $t_{end}$     : ```0.0019```\n",
    "- $time$        : ```0:00:26```\n",
    "--- \n",
    "## Benchmark 24x40\n",
    "- $f_{start}$   : ```0.179```, $f_{best}$ : ```0.269```\n",
    "- $C_{optimal}$ : ```4```\n",
    "- $t_{end}$     : ```0.0019```\n",
    "- $time$        : ```0:01:36```\n",
    "--- \n",
    "## Benchmark 30x50\n",
    "- $f_{start}$   : ```0.104```, $f_{best}$ : ```0.214```\n",
    "- $C_{optimal}$ : ```3```\n",
    "- $t_{end}$     : ```0.0019```\n",
    "- $time$        : ```0:01:22```\n",
    "--- \n",
    "## Benchmark 30x90\n",
    "- $f_{start}$   : ```0.1231```, $f_{best}$ : ```0.1236```\n",
    "- $C_{optimal}$ : ```2```\n",
    "- $t_{end}$     : ```0.0019```\n",
    "- $time$        : ```0:01:34```\n",
    "--- \n",
    "## Benchmark 37x53\n",
    "- $f_{start}$   : ```0.454```, $f_{best}$ : ```0.494```\n",
    "- $C_{optimal}$ : ```3```\n",
    "- $t_{end}$     : ```0.0019```\n",
    "- $time$        : ```0:01:26```\n",
    "--- "
   ]
  }
 ],
 "metadata": {
  "kernelspec": {
   "display_name": "Python 3",
   "language": "python",
   "name": "python3"
  },
  "language_info": {
   "codemirror_mode": {
    "name": "ipython",
    "version": 3
   },
   "file_extension": ".py",
   "mimetype": "text/x-python",
   "name": "python",
   "nbconvert_exporter": "python",
   "pygments_lexer": "ipython3",
   "version": "3.6.10"
  }
 },
 "nbformat": 4,
 "nbformat_minor": 4
}
